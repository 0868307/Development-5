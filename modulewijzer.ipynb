{
 "cells": [
  {
   "cell_type": "markdown",
   "metadata": {},
   "source": [
    "# Development 5"
   ]
  },
  {
   "cell_type": "markdown",
   "metadata": {},
   "source": [
    "## Introduction\n",
    "This is the course descriptor for the _Development 5_ course.\n",
    "\n",
    "Development 5 covers a presentation of modern, distributed (over HTTP) applications which follow the MVC architectural pattern. Given the huge breadth of useable technologies in the field, we will focus the implementation on a single stack: ASP.Net Core, Postgresql, and React over TypeScript.\n",
    "\n",
    "An important reminder: the course is not meant to be a _build a website in 16 hours_ workshop. This would collide with the philosophy of the Informatica degree, which aims at giving the foundational tools to empower students as ongoing learners. For this reason, we will not dive deeply into the intricacies of a given technology, but only use the minimum needed to understand the underlying concept(s) and move on. As a student, it is highly desirable to realize that most likely each of you will use _different technologies_ on the workplace, and will have to _keep learn new ones_, so focusing on a single language, stack, or library would do more harm than good."
   ]
  },
  {
   "cell_type": "markdown",
   "metadata": {},
   "source": [
    "### Learning goals\n",
    "The course has the following learning goals:\n",
    "- (PR_M) students _can extend_ the model of a given MVC application in order to add permanent storage structure;\n",
    "- (PR_C) students _can extend_ the controller of a given MVC application in order to add access patterns to the model;\n",
    "- (PR_V) students _can extend_ the view of a given MVC application in order to add interaction elements;\n",
    "\n",
    "The course, and therefore also the learning goals, are limited to idiomatic C# and ASP.Net Core constructs, and idiomatic TypeScript and React constructs (augmented with a few essential npm libraries such as Immutablejs and Fetch)."
   ]
  },
  {
   "cell_type": "markdown",
   "metadata": {},
   "source": [
    "### Exam\n",
    "The exam consists of a single part:\n",
    "\n",
    "#### Practice\n",
    "- (BA) a series of *backward assignments*, that is exercises where students, given partial code and the desired state transitions, are requested to fill in the missing code that matches the given state transitions.\n",
    "\n",
    "The exercises are split as follows:\n",
    "- Part 1, 25% of the exercises, require students to complete a model implementation;\n",
    "- Part 2, 25% of the exercises, require students to complete a controller implementation;\n",
    "- Part 3, 50% of the exercises, require students to complete a view implementation;\n",
    "\n",
    "This reflects the relatively higher emphasis on interaction that modern distributed applications are showing. This leads development time to be split non-uniformly across the architectural elements.\n",
    "\n",
    "#### Scoring\n",
    "The practice results in a full grade (from 0 to 10). Each excercise awards one single point, if correctly completed. The grade is computed as the percentage of points obtained, divided by 10. Students who score at least 55% of the total points will get a passing grade. For example, if a student completes 3 assignments out of 5, this means obtaining 3 points out of 5, which means 60% and corresponds thus to a 6 (60/10).\n",
    "\n",
    "#### Retake\n",
    "If the exam is not passed, then it will need to be retaken during the current schoolyear.\n",
    "\n",
    "#### Exam matrix\n",
    "The exam covers all learning goals.\n",
    "\n",
    "| Exam part     | Part 1        | Part 2        | Part 3        |\n",
    "| ------------- |:-------------:|:-------------:|:-------------:|\n",
    "| PR_M          | V             |               |               |\n",
    "| PR_C          |               | V             |               |\n",
    "| PR_V          |               |               | V             |\n"
   ]
  },
  {
   "cell_type": "markdown",
   "metadata": {},
   "source": [
    "## Lecture plan\n",
    "The course is made up of eight lectures and practicums. The lectures begin with an introduction of the basic concepts, which are then elaborated during the practicums. The lectures handle the theory, plus applied examples. The applied examples are then further elaborated during the practicums."
   ]
  },
  {
   "cell_type": "markdown",
   "metadata": {},
   "source": [
    "## Study points and contact time\n",
    "The course awards students 4 ECTS, in correspondence with 112 hours of student work.\n",
    "\n",
    "The course consists of eight frontal lectures for the theory, and eight assisted practicums. The rest is self study."
   ]
  }
 ],
 "metadata": {
  "kernelspec": {
   "display_name": "Python 3",
   "language": "python",
   "name": "python3"
  },
  "language_info": {
   "codemirror_mode": {
    "name": "ipython",
    "version": 3
   },
   "file_extension": ".py",
   "mimetype": "text/x-python",
   "name": "python",
   "nbconvert_exporter": "python",
   "pygments_lexer": "ipython3",
   "version": "3.5.2"
  }
 },
 "nbformat": 4,
 "nbformat_minor": 1
}
