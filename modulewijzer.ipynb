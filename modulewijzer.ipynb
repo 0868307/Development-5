{
 "cells": [
  {
   "cell_type": "markdown",
   "metadata": {},
   "source": [
    "# Development 5 (INFDEV04-5)\n",
    "- Course owners: M. Abbadi, A. Omar"
   ]
  },
  {
   "cell_type": "markdown",
   "metadata": {},
   "source": [
    "## Introduction\n",
    "This is the course descriptor for the _Development 5_ course.\n",
    "\n",
    "Development 5 covers a presentation of modern, distributed (over HTTP) applications which follow the MVC architectural pattern. Given the huge breadth of usable technologies in the field, we will focus the implementation on a single stack: ASP.Net Core, Postgresql, and React over TypeScript.\n",
    "\n",
    "An important reminder: the course is not meant to be a _build a website in 16 hours_ workshop. This would collide with the philosophy of the Informatica degree, which aims at giving the foundational tools to empower students as ongoing learners. For this reason, we will not dive deeply into the intricacies of a given technology, but only use the minimum needed to understand the underlying concept(s) and move on. As a student, it is highly desirable to realize that most likely each of you will use _different technologies_ on the workplace, and will have to _keep learn new ones_, so focusing on a single language, stack, or library would do more harm than good."
   ]
  },
  {
   "cell_type": "markdown",
   "metadata": {},
   "source": [
    "### Learning goals\n",
    "The course has the following learning goals:\n",
    "- (PR_M) students can implement the model of a given MVC application in order to interact with a permanent storage structure;\n",
    "- (PR_C) students can implement the controller of a given MVC application in order to control access patterns to the model;\n",
    "- (PR_V) students can implement the view of a given MVC application in order to add interaction elements and improve safeness.\n",
    "\n",
    "The course, and therefore also the learning goals, are limited to idiomatic C# and ASP.Net Core constructs, and idiomatic TypeScript and React constructs (augmented with a few essential *npm* libraries such as Immutablejs and Fetch).\n",
    "\n",
    "### Competences\n",
    "- Realization\n",
    "- Analysis"
   ]
  },
  {
   "cell_type": "markdown",
   "metadata": {},
   "source": [
    "### Exam\n",
    "The exam consists of a series of exercises where students, given partial code and the desired state transitions, are requested to fill in the missing code that matches the given state transitions.\n",
    "\n",
    "The exercises are split as follows:\n",
    "- Part 1, 25% of the exercises, requires students to complete a model implementation;\n",
    "- Part 2, 25% of the exercises, requires students to complete a controller implementation;\n",
    "- Part 3, 50% of the exercises, requires students to complete a view implementation.\n",
    "\n",
    "For example the exam could be made of 8 exercises: 2 about the model, 2 about the controller and 4 about the view.\n",
    "\n",
    "This reflects the relatively higher emphasis on interaction that modern distributed applications are showing. This leads development time to be split non-uniformly across the architectural elements.\n",
    "\n",
    "#### Scoring\n",
    "The exam results in a full grade (from 0 to 10). Each exercise awards one single point, if correctly completed. The grade is computed as the percentage of points obtained, divided by 10. Students who score at least 55% of the total points will get a passing grade. For example, if a student completes 3 assignments out of 5, this means obtaining 3 points out of 5, which means 60% and corresponds thus to a 6 (60/10).\n",
    "\n",
    "#### Retake\n",
    "If the exam is not passed, then it will need to be retaken during the current schoolyear. The retake will be scheduled at the end of the following period.\n",
    "\n",
    "#### Exam matrix\n",
    "The exam covers all learning goals.\n",
    "\n",
    "| Exam part     | Part 1        | Part 2        | Part 3        |\n",
    "| ------------- |:-------------:|:-------------:|:-------------:|\n",
    "| PR_M          | V             |               |               |\n",
    "| PR_C          |               | V             |               |\n",
    "| PR_V          |               |               | V             |\n"
   ]
  },
  {
   "cell_type": "markdown",
   "metadata": {},
   "source": [
    "## Lecture plan\n",
    "The course is made up of seven lectures and practicums. During the lectures both theoretical concepts and applied examples will be covered. During the practicum the students will be asked to practice independently (with the help of teachers when needed) the applied examples seen in the lectures. The students can experiment in the practicums. All the work done in the practicums can be seen as formative exercises in preparation of the exam.  \n",
    "\n",
    "### Chapter 1 Introduction to distributed applications\n",
    "- The characteristic of distributed applications\n",
    "- The Model-View-Controller (MVC) design pattern\n",
    "- Object-relational mapper (ORM)\n",
    "- The M in MVC \n",
    "\n",
    "### Chapter 2 - Modeling queries and managing data\n",
    "- Impedence mismatch\n",
    "- Mapping data from relational/physical model to domain models\n",
    "- A genereric model to safely query relational models\n",
    "- The costs of accessing data\n",
    "- Improving queries safeness through typing (LINQ)\n",
    "\n",
    "### Chapter 3 - Controlling the data-flow in the application\n",
    "- Taming the complexity of models in a distributed application\n",
    "- The C in MVC to narrow the access to the model\n",
    "- HTTP Protocol\n",
    "- Architecturing distributed applications through the REST-model and testing \n",
    "\n",
    "### Chapter 4 - Rendering instances of the model \n",
    "- The V in the MVC\n",
    "- Serving static pages with template engines\n",
    "- The challenge of interacting with the model\n",
    "\n",
    "### Chapter 5 - Towards a new rendering architecture\n",
    "- Client side/server independent programming\n",
    "- Managing state on the client (Javascript and the DOM) \n",
    "\n",
    "### Chapter 6 - Single page application\n",
    "- Putting in relation model and view in the client\n",
    "- The concepts of containers and components in React\n",
    "- The callback model\n",
    "\n",
    "### Chapter 7 - Increasing safeness on client side  \n",
    "- Validating state access through types\n",
    "- Typescript as superset of Javascript to guarantee correct usages of the model\n",
    "- Implication of using types in structuring the application"
   ]
  },
  {
   "cell_type": "markdown",
   "metadata": {},
   "source": [
    "## Learning materials\n",
    "- Materials used in the lessons: https://github.com/hogeschool/Development-5/tree/2017-2018/Lectures\n",
    "- Entity framework core online documentation: https://docs.microsoft.com/en-us/ef/core/index\n",
    "- Asp.net core online documentation: https://docs.microsoft.com/en-us/aspnet/core/\n",
    "- React online documentation: https://facebook.github.io/react/docs/hello-world.html\n",
    "- Typescript online documentation: https://www.typescriptlang.org/docs/handbook/react-&-webpack.html\n",
    "\n",
    "\n",
    "\n",
    "## Study points and contact time\n",
    "The course awards students 4 ECTS, in correspondence with 112 hours of student work.\n",
    "\n",
    "The course consists of seven frontal lectures and seven practicums. The rest is self study."
   ]
  },
  {
   "cell_type": "code",
   "execution_count": null,
   "metadata": {
    "collapsed": true
   },
   "outputs": [],
   "source": []
  }
 ],
 "metadata": {
  "kernelspec": {
   "display_name": "Python 3",
   "language": "python",
   "name": "python3"
  },
  "language_info": {
   "codemirror_mode": {
    "name": "ipython",
    "version": 3
   },
   "file_extension": ".py",
   "mimetype": "text/x-python",
   "name": "python",
   "nbconvert_exporter": "python",
   "pygments_lexer": "ipython3",
   "version": "3.6.1"
  }
 },
 "nbformat": 4,
 "nbformat_minor": 1
}
