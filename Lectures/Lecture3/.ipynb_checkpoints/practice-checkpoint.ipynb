{
 "cells": [
  {
   "cell_type": "markdown",
   "metadata": {},
   "source": [
    "# Activities"
   ]
  },
  {
   "cell_type": "markdown",
   "metadata": {},
   "source": [
    "Note: the practice happens almost exclusively on paper, potentially augmented by multiple choice questions in order to submit an answer that shows understanding.\n",
    "\n",
    "The activities performed are:\n",
    "- 1 - Build a single RESTful controller against an EF database\n",
    "- 2 - Add pagination to `GetAll`\n",
    "- 3 - Add very simple optional filtering to `GetAll` (`GreaterThan`)\n",
    "- 4 - Add very simple optional sorting to `GetAll` (by a single property)\n",
    "- 5 - Add generic predicate filtering to `GetAll`\n",
    "\n",
    "### 5 Generic predicate filtering\n",
    "To use generic predicates to select entities of our database we need use LINQ dynamically by means of `Expression Trees` [1]. Expression trees allow to build/compose dynamically LINQ objects that can be used to test for example whether to select or not an entity, to order the result of a query, etc.\n",
    "\n",
    "\n",
    "\n",
    "In the following a schematized version of a simple application is presented. In the schema a client is trying to get all the actors from the remote database that are called `Pippo` and which ages are 18. To do so the client first builds a filter expression (**1**) that captures the just mentioned conditions, and then calls (**2**) the remote method `GetAll` to which the just built filter expression (_our predicate_) is passed as a json string. \n",
    "\n",
    "\n",
    "\n",
    "The controller captures the call request (**3**) and forwards it to the right method (**4**). The method `GetAll` converts the input filter expression to an equivalent version in `Expression Tree`. The converted expression and the rest of the query is then passed to EF (**5**) which takes will take care of selecting the right actors. Once selected, the actors are returned back to the client (**6**). The client, which meanwhile was waiting for a response (**2.1**) receives the actors and saves them for future usages (**7**).\n",
    "\n",
    "\n",
    "\n",
    "<img src=\"_1.jpg\">\n",
    "\n",
    "\n",
    "\n",
    "In the following the code for the client and the server is provided and commented. Use the above image to follow the structure of the solution.\n",
    "\n",
    "#### Client\n",
    "For this solution we will use a client written in C# (you can skip this part and use directly postman; in this case make sure to build correctly the body of the predicate to send via http). \n",
    "\n",
    "\n",
    "Create a a console application `dotnet new console` and add the Newtonsoft package to it `dotnet add package Newtonsoft.Json`. Newtonsoft is needed to parse the predicate into a json structure to send to the server. In the end the code should look like the following:\n",
    "\n",
    "\n",
    "<img src=\"_2.jpg\">\n",
    "\n",
    "The classes needed for the correct functioning of the code above are:\n",
    "\n",
    "<img src=\"_3.jpg\">\n",
    "\n",
    "\n",
    "Before you run the program make sure that the server (which definition is provided in the following section) is running.\n",
    "\n",
    "#### Server\n",
    "\n",
    "\n",
    "\n",
    "\n",
    "\n",
    "References:\n",
    "- [1] https://docs.microsoft.com/en-us/dotnet/csharp/programming-guide/concepts/expression-trees/\n"
   ]
  }
 ],
 "metadata": {
  "kernelspec": {
   "display_name": "Python 3",
   "language": "python",
   "name": "python3"
  },
  "language_info": {
   "codemirror_mode": {
    "name": "ipython",
    "version": 3
   },
   "file_extension": ".py",
   "mimetype": "text/x-python",
   "name": "python",
   "nbconvert_exporter": "python",
   "pygments_lexer": "ipython3",
   "version": "3.6.1"
  }
 },
 "nbformat": 4,
 "nbformat_minor": 1
}
