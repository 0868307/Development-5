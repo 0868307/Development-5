{
 "cells": [
  {
   "cell_type": "markdown",
   "metadata": {},
   "source": [
    "# Activities"
   ]
  },
  {
   "cell_type": "markdown",
   "metadata": {},
   "source": [
    "In this practicum the functionality of the console application that have been built in practicum 1 and 2 will be extended. We discussed ealier the MVC architecture.  After implementing the `model` part that is resposible for the commuication with the data storage we will add a `controller` part to the application. This controller will serve as a HTTP application programming interface (API). So it is just an object that handles HTTP requests and creates the HTTP response. Any addtional logic that is needed to implement a response will be implmented in the controller. \n",
    "\n",
    "In this example we will:\n",
    "\n",
    "- Build a single RESTful controller against an EF database\n",
    "- Add pagination to `GetAll`\n",
    "- Add very simple optional filtering to `GetAll` (`GreaterThan`)\n",
    "- Add very simple optional sorting to `GetAll` (by a single property)\n",
    "- Create filtering criteria dynamically by building `Linq expressions`. This criteria will be deserialed from a json message.  \n",
    "\n",
    "### Step 0:  Project setup\n",
    "\n",
    "\n"
   ]
  },
  {
   "cell_type": "code",
   "execution_count": null,
   "metadata": {
    "collapsed": true
   },
   "outputs": [],
   "source": []
  },
  {
   "cell_type": "code",
   "execution_count": null,
   "metadata": {
    "collapsed": true
   },
   "outputs": [],
   "source": []
  }
 ],
 "metadata": {
  "kernelspec": {
   "display_name": "Python 3",
   "language": "python",
   "name": "python3"
  },
  "language_info": {
   "codemirror_mode": {
    "name": "ipython",
    "version": 3
   },
   "file_extension": ".py",
   "mimetype": "text/x-python",
   "name": "python",
   "nbconvert_exporter": "python",
   "pygments_lexer": "ipython3",
   "version": "3.6.1"
  }
 },
 "nbformat": 4,
 "nbformat_minor": 1
}
